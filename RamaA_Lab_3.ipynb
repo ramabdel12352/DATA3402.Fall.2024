{
  "cells": [
    {
      "cell_type": "markdown",
      "metadata": {
        "id": "22vf5Jg6619Y"
      },
      "source": [
        "# Lab 3\n",
        "\n",
        "In this lab we will become familiar with distributions, histograms, and functional programming. Do not use numpy or any other library for this lab."
      ]
    },
    {
      "cell_type": "markdown",
      "metadata": {
        "id": "_zvyokPk619c"
      },
      "source": [
        "### Uniform Distribution\n",
        "Lets start with generating some fake random data. You can get a random number between 0 and 1 using the python random module as follow:"
      ]
    },
    {
      "cell_type": "code",
      "execution_count": 1,
      "metadata": {
        "colab": {
          "base_uri": "https://localhost:8080/"
        },
        "id": "dze6X31e619d",
        "outputId": "2b6f338a-44ab-48e0-e7ad-ec9016002df3"
      },
      "outputs": [
        {
          "output_type": "stream",
          "name": "stdout",
          "text": [
            "The Value of x is 0.16155030447783247\n"
          ]
        }
      ],
      "source": [
        "import random\n",
        "x=random.random()\n",
        "print(\"The Value of x is\", x)"
      ]
    },
    {
      "cell_type": "markdown",
      "metadata": {
        "id": "H80g2Q91619i"
      },
      "source": [
        "Everytime you call random, you will get a new number.\n",
        "\n",
        "*Exercise 1:* Using random, write a function `generate_uniform(N, mymin, mymax)`, that returns a python list containing N random numbers between specified minimum and maximum value. Note that you may want to quickly work out on paper how to turn numbers between 0 and 1 to between other values."
      ]
    },
    {
      "cell_type": "code",
      "execution_count": 2,
      "metadata": {
        "id": "kwhSe0F_619k"
      },
      "outputs": [],
      "source": [
        "# Skeleton\n",
        "def generate_uniform(N,x_min,x_max):\n",
        "    out = []\n",
        "    return [random.uniform(x_min, x_max) for _ in range(N)]\n",
        "    return out"
      ]
    },
    {
      "cell_type": "code",
      "execution_count": 3,
      "metadata": {
        "colab": {
          "base_uri": "https://localhost:8080/"
        },
        "id": "TccpmEyr619l",
        "outputId": "921e7b09-6cd1-4627-8d7a-f88c1efd866e"
      },
      "outputs": [
        {
          "output_type": "stream",
          "name": "stdout",
          "text": [
            "Data Type: <class 'list'>\n",
            "Data Length: 1000\n",
            "Type of Data Contents: <class 'float'>\n",
            "Data Minimum: -9.987919338492603\n",
            "Data Maximum: 9.99272271826225\n"
          ]
        }
      ],
      "source": [
        "# Test your solution here\n",
        "data=generate_uniform(1000,-10,10)\n",
        "print (\"Data Type:\", type(data))\n",
        "print (\"Data Length:\", len(data))\n",
        "if len(data)>0:\n",
        "    print (\"Type of Data Contents:\", type(data[0]))\n",
        "    print (\"Data Minimum:\", min(data))\n",
        "    print (\"Data Maximum:\", max(data))"
      ]
    },
    {
      "cell_type": "markdown",
      "metadata": {
        "id": "nruSblli619m"
      },
      "source": [
        "*Exercise 2a:*\n",
        "Write a function that computes the mean of values in a list. Recall the equation for the mean of a random variable $\\bf{x}$ computed on a data set of $n$ values $\\{ x_i \\} = \\{x_1, x_2, ..., x_n\\}$  is ${\\bf\\bar{x}} = \\frac{1}{n} \\sum_i^n x_i$."
      ]
    },
    {
      "cell_type": "code",
      "execution_count": 4,
      "metadata": {
        "id": "xTb0uHpA619n"
      },
      "outputs": [],
      "source": [
        "# Skeleton\n",
        "def mean(Data):\n",
        "    m=0.\n",
        "    return sum(Data)/ len(Data)\n",
        "    return m"
      ]
    },
    {
      "cell_type": "code",
      "execution_count": 5,
      "metadata": {
        "colab": {
          "base_uri": "https://localhost:8080/"
        },
        "id": "iwUAaZs3619p",
        "outputId": "0f886fd6-90d2-49ae-908d-2bc412921f76"
      },
      "outputs": [
        {
          "output_type": "stream",
          "name": "stdout",
          "text": [
            "Mean of Data: 0.03003201786447898\n"
          ]
        }
      ],
      "source": [
        "# Test your solution here\n",
        "print (\"Mean of Data:\", mean(data))"
      ]
    },
    {
      "cell_type": "markdown",
      "metadata": {
        "id": "ScPBYLDV619q"
      },
      "source": [
        "*Exercise 2b:*\n",
        "Write a function that computes the variance of values in a list. Recall the equation for the variance of a random variable $\\bf{x}$ computed on a data set of $n$ values $\\{ x_i \\} = \\{x_1, x_2, ..., x_n\\}$  is ${\\bf\\langle x \\rangle} = \\frac{1}{n} \\sum_i^n (x_i - {\\bf\\bar{x}})$."
      ]
    },
    {
      "cell_type": "code",
      "execution_count": 6,
      "metadata": {
        "id": "1Q6UxfM4619r"
      },
      "outputs": [],
      "source": [
        "# Skeleton\n",
        "def variance(Data):\n",
        "    m=0.\n",
        "    n= len(Data)\n",
        "    m= sum(Data)/n\n",
        "\n",
        "    return sum((x-m)**2 for x in data)/n\n",
        "    return m"
      ]
    },
    {
      "cell_type": "code",
      "execution_count": 7,
      "metadata": {
        "colab": {
          "base_uri": "https://localhost:8080/"
        },
        "id": "nG6vlH9v619s",
        "outputId": "d1013f49-9289-4d90-a4d0-a358e90b19ee"
      },
      "outputs": [
        {
          "output_type": "stream",
          "name": "stdout",
          "text": [
            "Variance of Data: 32.458059856134234\n"
          ]
        }
      ],
      "source": [
        "# Test your solution here\n",
        "print (\"Variance of Data:\", variance(data))"
      ]
    },
    {
      "cell_type": "markdown",
      "metadata": {
        "id": "n_rkUgjs619t"
      },
      "source": [
        "## Histogramming"
      ]
    },
    {
      "cell_type": "markdown",
      "metadata": {
        "id": "RENIw3EJ619u"
      },
      "source": [
        "*Exercise 3:* Write a function that bins the data so that you can create a histogram. An example of how to implement histogramming is the following logic:\n",
        "\n",
        "* User inputs a list of values `x` and optionally `n_bins` which defaults to 10.\n",
        "* If not supplied, find the minimum and maximum (`x_min`,`x_max`) of the values in x.\n",
        "* Determine the bin size (`bin_size`) by dividing the range of the function by the number of bins.\n",
        "* Create an empty list of zeros of size `n_bins`, call it `hist`.\n",
        "* Loop over the values in `x`\n",
        "    * Loop over the values in `hist` with index `i`:\n",
        "        * If x is between `x_min+i*bin_size` and `x_min+(i+1)*bin_size`, increment `hist[i].`\n",
        "        * For efficiency, try to use continue to goto the next bin and data point.\n",
        "* Return `hist` and the list corresponding of the bin edges (i.e. of `x_min+i*bin_size`).    "
      ]
    },
    {
      "cell_type": "code",
      "execution_count": 8,
      "metadata": {
        "id": "Jdag7WZS619v"
      },
      "outputs": [],
      "source": [
        "# Solution\n",
        "def histogram(data, n_bins=10, x_min=None, x_max=None):\n",
        "    if x_min is None:\n",
        "        x_min = min(data)\n",
        "    if x_max is None:\n",
        "        x_max = max(data)\n",
        "\n",
        "    bin_width = (x_max - x_min) / n_bins\n",
        "    bin_edges = [x_min + i * bin_width for i in range(n_bins + 1)]\n",
        "\n",
        "    hist = [0] * n_bins\n",
        "\n",
        "    for d in data:\n",
        "        for i in range(n_bins):\n",
        "            if bin_edges[i] <= d < bin_edges[i + 1]:\n",
        "                hist[i] += 1\n",
        "                break\n",
        "\n",
        "    return hist, bin_edges"
      ]
    },
    {
      "cell_type": "code",
      "execution_count": 9,
      "metadata": {
        "colab": {
          "base_uri": "https://localhost:8080/"
        },
        "id": "xuxoXrtL619w",
        "outputId": "8ff04589-0329-4bb4-90eb-7a6f8db6bd53"
      },
      "outputs": [
        {
          "output_type": "stream",
          "name": "stdout",
          "text": [
            "[14, 9, 7, 10, 15, 10, 14, 4, 9, 8, 11, 7, 7, 7, 9, 10, 10, 8, 13, 10, 8, 12, 6, 12, 11, 9, 6, 8, 12, 7, 12, 8, 7, 14, 10, 12, 12, 11, 11, 14, 8, 10, 11, 15, 10, 6, 12, 13, 12, 12, 14, 11, 11, 6, 9, 12, 14, 9, 11, 6, 11, 10, 13, 10, 8, 5, 6, 13, 6, 16, 9, 9, 6, 9, 6, 11, 12, 13, 8, 17, 9, 14, 8, 7, 13, 10, 11, 9, 11, 9, 10, 12, 10, 8, 11, 8, 7, 9, 13, 6]\n"
          ]
        }
      ],
      "source": [
        "# Test your solution here\n",
        "h,b=histogram(data,100)\n",
        "print(h)"
      ]
    },
    {
      "cell_type": "markdown",
      "metadata": {
        "id": "A3uuIr13619y"
      },
      "source": [
        "*Exercise 4:* Write a function that uses the histogram function in the previous exercise to create a text-based \"graph\". For example the output could look like the following:\n",
        "```\n",
        "[  0,  1] : ######\n",
        "[  1,  2] : #####\n",
        "[  2,  3] : ######\n",
        "[  3,  4] : ####\n",
        "[  4,  5] : ####\n",
        "[  5,  6] : ######\n",
        "[  6,  7] : #####\n",
        "[  7,  8] : ######\n",
        "[  8,  9] : ####\n",
        "[  9, 10] : #####\n",
        "```\n",
        "\n",
        "Where each line corresponds to a bin and the number of `#`'s are proportional to the value of the data in the bin."
      ]
    },
    {
      "cell_type": "code",
      "execution_count": 10,
      "metadata": {
        "id": "t-ZYLrqH619y"
      },
      "outputs": [],
      "source": [
        "# Solution\n",
        "def draw_histogram(data, n_bins, x_min=None, x_max=None, character=\"#\", max_character_per_line=20):\n",
        "    hist, bin_edges = histogram(data, n_bins, x_min, x_max)\n",
        "\n",
        "    for lower_bound, upper_bound, freq in zip(bin_edges[:-1], bin_edges[1:], hist):\n",
        "        bar = character * min(freq, max_character_per_line)\n",
        "        print(f\"[{lower_bound:.2f}, {upper_bound:.2f}] : {bar}\")\n",
        "\n",
        "    return hist,bin_edges"
      ]
    },
    {
      "cell_type": "code",
      "execution_count": 11,
      "metadata": {
        "colab": {
          "base_uri": "https://localhost:8080/"
        },
        "id": "qauK1nqC619z",
        "outputId": "3eadea84-4023-483c-e9e9-e24a48425795"
      },
      "outputs": [
        {
          "output_type": "stream",
          "name": "stdout",
          "text": [
            "[55, 45, 41, 51, 49, 42, 51, 60, 54, 55, 51, 52, 52, 46, 39, 61, 51, 50, 51, 43] [-9.987919338492603, -8.98888723565486, -7.989855132817118, -6.990823029979374, -5.991790927141632, -4.992758824303889, -3.993726721466146, -2.9946946186284036, -1.9956625157906611, -0.9966304129529178, 0.00240168988482381, 1.0014337927225672, 2.0004658955603105, 2.999497998398052, 3.9985301012357954, 4.997562204073537, 5.99659430691128, 6.995626409749022, 7.994658512586767, 8.993690615424509, 9.99272271826225]\n"
          ]
        }
      ],
      "source": [
        "# Test your solution here\n",
        "h,b=histogram(data,20)\n",
        "print(h,b)"
      ]
    },
    {
      "cell_type": "markdown",
      "metadata": {
        "id": "LJd1Dk_N6190"
      },
      "source": [
        "## Functional Programming\n",
        "\n",
        "*Exercise 5:* Write a function the applies a booling function (that returns true/false) to every element in data, and return a list of indices of elements where the result was true. Use this function to find the indices of entries greater than 0.5."
      ]
    },
    {
      "cell_type": "code",
      "execution_count": 12,
      "metadata": {
        "id": "Lgo7brNL6191"
      },
      "outputs": [],
      "source": [
        "def where(mylist,myfunc):\n",
        "    out= []\n",
        "    return [i for i, item in enumerate(mylist) if myfunc(item)]\n",
        "\n",
        "    return out"
      ]
    },
    {
      "cell_type": "code",
      "execution_count": 13,
      "metadata": {
        "colab": {
          "base_uri": "https://localhost:8080/"
        },
        "id": "U6thXXiP6193",
        "outputId": "2161ffb8-d79a-4cac-ee5c-21c8b26082a3"
      },
      "outputs": [
        {
          "output_type": "stream",
          "name": "stdout",
          "text": [
            "[1.00, 2.40] : #\n",
            "[2.40, 3.80] : \n",
            "[3.80, 5.20] : ##\n",
            "[5.20, 6.60] : \n",
            "[6.60, 8.00] : #\n"
          ]
        },
        {
          "output_type": "execute_result",
          "data": {
            "text/plain": [
              "([1, 0, 2, 0, 1], [1.0, 2.4, 3.8, 5.199999999999999, 6.6, 8.0])"
            ]
          },
          "metadata": {},
          "execution_count": 13
        }
      ],
      "source": [
        "data= [1,4,5,7,8]\n",
        "h,b= histogram(data,5)\n",
        "draw_histogram(data,5)"
      ]
    },
    {
      "cell_type": "markdown",
      "metadata": {
        "id": "XLxcZDx96194"
      },
      "source": [
        "*Exercise 6:* The `inrange(mymin,mymax)` function below returns a function that tests if it's input is between the specified values. Write corresponding functions that test:\n",
        "* Even\n",
        "* Odd\n",
        "* Greater than\n",
        "* Less than\n",
        "* Equal\n",
        "* Divisible by"
      ]
    },
    {
      "cell_type": "code",
      "execution_count": 14,
      "metadata": {
        "id": "ZT_TobZY6194"
      },
      "outputs": [],
      "source": [
        "def in_range(mymin,mymax):\n",
        "    def testrange(x):\n",
        "        return x<mymax and x>=mymin\n",
        "    return testrange\n",
        "\n",
        "def even(x):\n",
        "    return x % 2 == 0\n",
        "\n",
        "def odd(x):\n",
        "    return x % 2 != 0\n",
        "\n",
        "def greater_than(val):\n",
        "    return lambda x: x > val\n",
        "\n",
        "def less_than(val):\n",
        "    return lambda x: x < val\n",
        "\n",
        "def equal_to(val):\n",
        "    return lambda x: x == val\n",
        "\n",
        "def divisible_by(divisor):\n",
        "    return lambda x: x % divisor == 0"
      ]
    },
    {
      "cell_type": "code",
      "execution_count": 15,
      "metadata": {
        "colab": {
          "base_uri": "https://localhost:8080/"
        },
        "id": "-JAPqprx6195",
        "outputId": "0045c161-d911-4efb-8c3f-737b24a2795a"
      },
      "outputs": [
        {
          "output_type": "stream",
          "name": "stdout",
          "text": [
            "True True False False False\n",
            "False False True True False\n",
            "Number of Entries passing F1: 5\n",
            "Number of Entries passing F2: 0\n"
          ]
        }
      ],
      "source": [
        "F1=in_range(0,10)\n",
        "F2=in_range(10,20)\n",
        "\n",
        "# Test of in_range\n",
        "print (F1(0), F1(1), F1(10), F1(15), F1(20))\n",
        "print (F2(0), F2(1), F2(10), F2(15), F2(20))\n",
        "\n",
        "print (\"Number of Entries passing F1:\", len(where(data,F1)))\n",
        "print (\"Number of Entries passing F2:\", len(where(data,F2)))"
      ]
    },
    {
      "cell_type": "markdown",
      "metadata": {
        "id": "JAQKC2T06195"
      },
      "source": [
        "*Exercise 7:* Repeat the previous exercise using `lambda` and the built-in python functions sum and map instead of your solution above."
      ]
    },
    {
      "cell_type": "code",
      "execution_count": 16,
      "metadata": {
        "id": "mwwfuD626196"
      },
      "outputs": [],
      "source": [
        "def in_range(mymin, mymax):\n",
        "    return lambda x: mymin <= x < mymax\n",
        "\n",
        "even = lambda x: x % 2 == 0\n",
        "odd = lambda x: x % 2 != 0\n",
        "greater_than = lambda val: lambda x: x > val\n",
        "less_than = lambda val: lambda x: x < val\n",
        "equal_to = lambda val: lambda x: x == val\n",
        "divisible_by = lambda divisor: lambda x: x % divisor == 0"
      ]
    },
    {
      "cell_type": "code",
      "execution_count": 17,
      "metadata": {
        "colab": {
          "base_uri": "https://localhost:8080/"
        },
        "id": "vgAhCG2V6196",
        "outputId": "42700182-92d8-448b-d2c0-5c7190b1358d"
      },
      "outputs": [
        {
          "output_type": "stream",
          "name": "stdout",
          "text": [
            "True True False False False\n",
            "False False True True False\n"
          ]
        }
      ],
      "source": [
        "F1 = in_range(0, 10)\n",
        "F2 = in_range(10, 20)\n",
        "\n",
        "print(F1(0), F1(1), F1(10), F1(15), F1(20))\n",
        "print(F2(0), F2(1), F2(10), F2(15), F2(20))"
      ]
    },
    {
      "cell_type": "markdown",
      "metadata": {
        "id": "bdCCNbLs6197"
      },
      "source": [
        "## Monte Carlo\n",
        "\n",
        "*Exercise 7:* Write a \"generator\" function called `generate_function(func,x_min,x_max,N)`, that instead of generating a flat distribution, generates a distribution with functional form coded in `func`. Note that `func` will always be > 0.  \n",
        "\n",
        "Use the test function below and your histogramming functions above to demonstrate that your generator is working properly.\n",
        "\n",
        "Hint: A simple, but slow, solution is to a draw random number `test_x` within the specified range and another number `p` between the `min` and `max` of the function (which you will have to determine). If `p<=function(test_x)`, then place `test_x` on the output. If not, repeat the process, drawing two new numbers. Repeat until you have the specified number of generated numbers, `N`. For this problem, it's OK to determine the `min` and `max` by numerically sampling the function.  "
      ]
    },
    {
      "cell_type": "code",
      "execution_count": 18,
      "metadata": {
        "id": "LkoNLh7N6197"
      },
      "outputs": [],
      "source": [
        "def generate_function(func, x_min, x_max, N=1000):\n",
        "    out = list()\n",
        "    min_val = float('inf')\n",
        "    max_val = float('-inf')\n",
        "\n",
        "    for _ in range(1000):\n",
        "        test_x = random.uniform(x_min, x_max)\n",
        "        test_y = func(test_x)\n",
        "        min_val = min(min_val, test_y)\n",
        "        max_val = max(max_val, test_y)\n",
        "\n",
        "    while len(out) < N:\n",
        "        test_x = random.uniform(x_min, x_max)\n",
        "        test_y = random.uniform(min_val, max_val)\n",
        "        if test_y <= func(test_x):\n",
        "            out.append(test_x)\n",
        "\n",
        "    return out"
      ]
    },
    {
      "cell_type": "code",
      "execution_count": 19,
      "metadata": {
        "colab": {
          "base_uri": "https://localhost:8080/"
        },
        "id": "ugdHuZYV6198",
        "outputId": "516895e5-dc29-49bc-b206-61c559372e81"
      },
      "outputs": [
        {
          "output_type": "stream",
          "name": "stdout",
          "text": [
            "[-10.00, -9.00] : ####################\n",
            "[-9.00, -8.00] : ####################\n",
            "[-8.00, -7.00] : ####################\n",
            "[-7.00, -6.00] : ####################\n",
            "[-6.00, -5.00] : ####################\n",
            "[-5.00, -4.00] : ####################\n",
            "[-4.00, -3.00] : ####################\n",
            "[-3.00, -2.00] : ############\n",
            "[-2.00, -1.00] : #####\n",
            "[-1.00, 0.00] : #######\n",
            "[0.00, 1.00] : ############\n",
            "[1.00, 2.00] : #################\n",
            "[2.00, 3.00] : ####################\n",
            "[3.00, 4.00] : ####################\n",
            "[4.00, 5.00] : ####################\n",
            "[5.00, 6.00] : ####################\n",
            "[6.00, 7.00] : ####################\n",
            "[7.00, 8.00] : ####################\n",
            "[8.00, 9.00] : ####################\n",
            "[9.00, 10.00] : ####################\n"
          ]
        }
      ],
      "source": [
        "# A test function\n",
        "def test_func(x,a=1,b=1):\n",
        "    return abs(a*x+b)\n",
        "\n",
        "generated_data = generate_function(test_func, -10, 10, N=1000)\n",
        "histogram_result = draw_histogram(generated_data, n_bins=20, x_min=-10, x_max=10)\n"
      ]
    },
    {
      "cell_type": "markdown",
      "metadata": {
        "id": "XjpYfpgL6199"
      },
      "source": [
        "*Exercise 8:* Use your function to generate 1000 numbers that are normal distributed, using the `gaussian` function below. Confirm the mean and variance of the data is close to the mean and variance you specify when building the Gaussian. Histogram the data."
      ]
    },
    {
      "cell_type": "code",
      "execution_count": 20,
      "metadata": {
        "id": "foE7vAsL619-"
      },
      "outputs": [],
      "source": [
        "import math\n",
        "\n",
        "def gaussian(mean, sigma):\n",
        "    def f(x):\n",
        "        return math.exp(-((x-mean)**2)/(2*sigma**2))/math.sqrt(math.pi*sigma)\n",
        "    return f\n",
        "\n",
        "g1=gaussian(0,1)\n",
        "g2=gaussian(10,3)\n",
        "\n",
        "def random_float(min_val, max_val):\n",
        "    return min_val + (max_val - min_val) * random.random()"
      ]
    },
    {
      "cell_type": "code",
      "execution_count": 21,
      "metadata": {
        "colab": {
          "base_uri": "https://localhost:8080/"
        },
        "id": "YA40Y6ub619-",
        "outputId": "5c098717-826f-44fe-ba1c-af66a0d07b56"
      },
      "outputs": [
        {
          "output_type": "stream",
          "name": "stdout",
          "text": [
            "Mean: 0.005465920281982757\n",
            "Variance: 1.0175050918296682\n",
            "[-5.00, -4.50] : \n",
            "[-4.50, -4.00] : \n",
            "[-4.00, -3.50] : \n",
            "[-3.50, -3.00] : #\n",
            "[-3.00, -2.50] : ######\n",
            "[-2.50, -2.00] : ##############\n",
            "[-2.00, -1.50] : ####################\n",
            "[-1.50, -1.00] : ####################\n",
            "[-1.00, -0.50] : ####################\n",
            "[-0.50, 0.00] : ####################\n",
            "[0.00, 0.50] : ####################\n",
            "[0.50, 1.00] : ####################\n",
            "[1.00, 1.50] : ####################\n",
            "[1.50, 2.00] : ####################\n",
            "[2.00, 2.50] : ####################\n",
            "[2.50, 3.00] : ####\n",
            "[3.00, 3.50] : ##\n",
            "[3.50, 4.00] : #\n",
            "[4.00, 4.50] : \n",
            "[4.50, 5.00] : \n"
          ]
        }
      ],
      "source": [
        "generated_data = generate_function(g1, -5, 5, N=1000)\n",
        "\n",
        "# Calculate mean and variance\n",
        "mean = sum(generated_data) / len(generated_data)\n",
        "variance = sum((x - mean) ** 2 for x in generated_data) / len(generated_data)\n",
        "\n",
        "print(\"Mean:\", mean)\n",
        "print(\"Variance:\", variance)\n",
        "\n",
        "# Histogram the data\n",
        "histogram_result = draw_histogram(generated_data, n_bins=20, x_min=-5, x_max=5)"
      ]
    },
    {
      "cell_type": "markdown",
      "metadata": {
        "id": "1yZ9ZO8H619_"
      },
      "source": [
        "*Exercise 9:* Combine your `generate_function`, `where`, and `in_range` functions above to create an integrate function. Use your integrate function to show that approximately 68% of Normal distribution is within one variance."
      ]
    },
    {
      "cell_type": "code",
      "execution_count": 22,
      "metadata": {
        "id": "hQjpGZAm619_"
      },
      "outputs": [],
      "source": [
        "def integrate(func, x_min, x_max, n_points=1000):\n",
        "\n",
        "    return integral"
      ]
    },
    {
      "cell_type": "code",
      "execution_count": 23,
      "metadata": {
        "id": "Gxc2b7pU61-A"
      },
      "outputs": [],
      "source": [
        "def integrate(func, x_min, x_max, n_points=1000):\n",
        "    count_inside = 0\n",
        "    for _ in range(n_points):\n",
        "        x = random.uniform(x_min, x_max)\n",
        "        y = random.uniform(0, 1)\n",
        "        if y <= func(x):\n",
        "            count_inside += 1\n",
        "    return count_inside / n_points * (x_max - x_min)\n",
        "    return integral\n",
        "\n",
        "def gaussian(mean, sigma):\n",
        "    def f(x):\n",
        "        return math.exp(-((x - mean) ** 2) / (2 * sigma ** 2)) / math.sqrt(2 * math.pi * sigma)\n",
        "    return f\n",
        "\n",
        "def generate_function(func, x_min, x_max, N=1000):\n",
        "    out = list()\n",
        "    min_val = float('inf')\n",
        "    max_val = float('-inf')\n",
        "\n",
        "    for _ in range(1000):\n",
        "        test_x = random.uniform(x_min, x_max)\n",
        "        test_y = func(test_x)\n",
        "        min_val = min(min_val, test_y)\n",
        "        max_val = max(max_val, test_y)\n",
        "\n",
        "    while len(out) < N:\n",
        "        test_x = random.uniform(x_min, x_max)\n",
        "        test_y = random.uniform(min_val, max_val)\n",
        "        if test_y <= func(test_x):\n",
        "            out.append(test_x)\n",
        "\n",
        "    return out\n",
        "\n",
        "def where(mylist, myfunc):\n",
        "    return [i for i, item in enumerate(mylist) if myfunc(item)]\n",
        "\n",
        "def in_range(mymin, mymax):\n",
        "    def testrange(x):\n",
        "        return mymin <= x < mymax\n",
        "    return testrange"
      ]
    },
    {
      "cell_type": "code",
      "execution_count": 24,
      "metadata": {
        "colab": {
          "base_uri": "https://localhost:8080/"
        },
        "id": "gO9BZUt261-B",
        "outputId": "dfc462f7-f64f-4f48-9ac9-49f01a36d9d0"
      },
      "outputs": [
        {
          "output_type": "stream",
          "name": "stdout",
          "text": [
            "The percentage of normal distribution within one standard deviation is 67.2 %\n"
          ]
        }
      ],
      "source": [
        "# Define g1 as a function\n",
        "g1 = gaussian(0, 1)\n",
        "\n",
        "# Integrate the gaussian function within one standard deviation\n",
        "integral_within_one_std = integrate(g1, -1, 1)\n",
        "print(\"The percentage of normal distribution within one standard deviation is\", integral_within_one_std * 100, \"%\")\n"
      ]
    }
  ],
  "metadata": {
    "kernelspec": {
      "display_name": "Python 3 (ipykernel)",
      "language": "python",
      "name": "python3"
    },
    "language_info": {
      "codemirror_mode": {
        "name": "ipython",
        "version": 3
      },
      "file_extension": ".py",
      "mimetype": "text/x-python",
      "name": "python",
      "nbconvert_exporter": "python",
      "pygments_lexer": "ipython3",
      "version": "3.10.12"
    },
    "colab": {
      "provenance": []
    }
  },
  "nbformat": 4,
  "nbformat_minor": 0
}