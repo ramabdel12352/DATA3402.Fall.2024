{
  "cells": [
    {
      "cell_type": "markdown",
      "metadata": {
        "id": "Rp5cNIaWVmzo"
      },
      "source": [
        "# Lab 4- Object Oriented Programming\n",
        "\n",
        "For all of the exercises below, make sure you provide tests of your solutions.\n"
      ]
    },
    {
      "cell_type": "markdown",
      "metadata": {
        "id": "bOPM-OVZVmzy"
      },
      "source": [
        "1. Write a \"counter\" class that can be incremented up to a specified maximum value, will print an error if an attempt is made to increment beyond that value, and allows reseting the counter."
      ]
    },
    {
      "cell_type": "code",
      "execution_count": 1,
      "metadata": {
        "id": "BXziwTNAVmz1"
      },
      "outputs": [],
      "source": [
        "class counter:\n",
        "    def __init__(self, max_v):\n",
        "        self.max_v= max_v\n",
        "        self.v=0\n",
        "\n",
        "    def advance(self):\n",
        "        if self.v < self.max_v:\n",
        "            self += 1\n",
        "        else:\n",
        "            print(\"Error: Above value.\")\n",
        "\n",
        "    def reset(self):\n",
        "        self.v=0"
      ]
    },
    {
      "cell_type": "markdown",
      "metadata": {
        "id": "A6ewYaSJVmz2"
      },
      "source": [
        "2. Copy and paste your solution to question 1 and modify it so that all the data held by the counter is private. Implement functions to check the value of the counter, check the maximum value, and check if the counter is at the maximum."
      ]
    },
    {
      "cell_type": "code",
      "execution_count": 2,
      "metadata": {
        "id": "s83QrV26Vmz3"
      },
      "outputs": [],
      "source": [
        "class Counter:\n",
        "    def __init__(self, max_v):\n",
        "        self.__max_v = max_v\n",
        "        self.__v = 0\n",
        "\n",
        "    def advance(self):\n",
        "        if self.__v < self.__max_v:\n",
        "            self.__v += 1\n",
        "        else:\n",
        "            print(\"Error: Above value.\")\n",
        "\n",
        "    def reset(self):\n",
        "        self.__v = 0\n",
        "\n",
        "    def get_value(self):\n",
        "        return self.__v\n",
        "\n",
        "    def get_max_value(self):\n",
        "        return self.__max_v\n",
        "\n",
        "    def is_at_max(self):\n",
        "        return self.__v == self.__max_v"
      ]
    },
    {
      "cell_type": "code",
      "source": [
        "counter= Counter(3)"
      ],
      "metadata": {
        "id": "8n92_172Vw_3"
      },
      "execution_count": 3,
      "outputs": []
    },
    {
      "cell_type": "code",
      "source": [
        "counter.advance()\n",
        "counter.advance()\n",
        "counter.advance()\n",
        "counter.advance()"
      ],
      "metadata": {
        "colab": {
          "base_uri": "https://localhost:8080/"
        },
        "id": "IzbsSQEgWDA1",
        "outputId": "694d5fbe-937f-452d-9971-56e616792004"
      },
      "execution_count": 4,
      "outputs": [
        {
          "output_type": "stream",
          "name": "stdout",
          "text": [
            "Error: Above value.\n"
          ]
        }
      ]
    },
    {
      "cell_type": "code",
      "source": [
        "print(counter.get_value())\n",
        "print(counter.get_max_value())\n",
        "print(counter.is_at_max())"
      ],
      "metadata": {
        "colab": {
          "base_uri": "https://localhost:8080/"
        },
        "id": "6OE5TLSYWD-X",
        "outputId": "1bcfef3e-5c4a-44e0-b5f4-a7f0ce4e9dca"
      },
      "execution_count": 5,
      "outputs": [
        {
          "output_type": "stream",
          "name": "stdout",
          "text": [
            "3\n",
            "3\n",
            "True\n"
          ]
        }
      ]
    },
    {
      "cell_type": "code",
      "source": [
        "print(counter.is_at_max())\n",
        "counter.advance()\n",
        "counter.reset()\n",
        "print(counter.get_value())"
      ],
      "metadata": {
        "colab": {
          "base_uri": "https://localhost:8080/"
        },
        "id": "42cibpWeWFzd",
        "outputId": "8d3975b9-a0ef-4633-c486-2039a3c0e5b3"
      },
      "execution_count": 6,
      "outputs": [
        {
          "output_type": "stream",
          "name": "stdout",
          "text": [
            "True\n",
            "Error: Above value.\n",
            "0\n"
          ]
        }
      ]
    },
    {
      "cell_type": "markdown",
      "metadata": {
        "id": "jqTo_D-vVmz4"
      },
      "source": [
        "3. Implement a class to represent a rectangle, holding the length, width, and $x$ and $y$ coordinates of a corner of the object. Implement functions that compute the area and perimeter of the rectangle. Make all data members private and privide accessors to retrieve values of data members."
      ]
    },
    {
      "cell_type": "code",
      "execution_count": 7,
      "metadata": {
        "id": "4xNReZppVmz5"
      },
      "outputs": [],
      "source": [
        "class Rectangle:\n",
        "    def __init__(self, length, width, x, y):\n",
        "        self.__l = length\n",
        "        self.__w = width\n",
        "        self.__x = x\n",
        "        self.__y = y\n",
        "\n",
        "    def get_length(self):\n",
        "        return self.__l\n",
        "\n",
        "    def get_width(self):\n",
        "        return self.__w\n",
        "\n",
        "    def get_x(self):\n",
        "        return self.__x\n",
        "\n",
        "    def get_y(self):\n",
        "        return self.__y\n",
        "\n",
        "    def area(self):\n",
        "        return self.__l * self.__w\n",
        "\n",
        "    def perimeter(self):\n",
        "        return 2 * (self.__l + self.__w)"
      ]
    },
    {
      "cell_type": "code",
      "source": [
        "rectangle = Rectangle(6, 8, 3, 2)\n",
        "\n",
        "print(\"Length = \", rectangle.get_length())\n",
        "print(\"Width = \", rectangle.get_width())\n",
        "print(\"X = \", rectangle.get_x())\n",
        "print(\"Y = \", rectangle.get_y())\n",
        "print(\"Area = \", rectangle.area())\n",
        "print(\"Perimeter= \", rectangle.perimeter())"
      ],
      "metadata": {
        "colab": {
          "base_uri": "https://localhost:8080/"
        },
        "id": "VKJk32xmWJ5x",
        "outputId": "91503f37-8669-4da3-ed41-1f2d15460f45"
      },
      "execution_count": 8,
      "outputs": [
        {
          "output_type": "stream",
          "name": "stdout",
          "text": [
            "Length =  6\n",
            "Width =  8\n",
            "X =  3\n",
            "Y =  2\n",
            "Area =  48\n",
            "Perimeter=  28\n"
          ]
        }
      ]
    },
    {
      "cell_type": "markdown",
      "metadata": {
        "id": "rCOIjJcSVmz6"
      },
      "source": [
        "4. Implement a class to represent a circle, holding the radius and $x$ and $y$ coordinates of center of the object. Implement functions that compute the area and perimeter of the rectangle. Make all data members private and privide accessors to retrieve values of data members."
      ]
    },
    {
      "cell_type": "code",
      "execution_count": 9,
      "metadata": {
        "id": "QFPDCivIVmz7"
      },
      "outputs": [],
      "source": [
        "class Circle:\n",
        "    def __init__(self, radius, x, y):\n",
        "        self.__radius = radius\n",
        "        self.__x = x\n",
        "        self.__y = y\n",
        "\n",
        "    def get_radius(self):\n",
        "        return self.__radius\n",
        "\n",
        "    def get_x(self):\n",
        "        return self.__x\n",
        "\n",
        "    def get_y(self):\n",
        "        return self.__y\n",
        "\n",
        "    def set_radius(self, radius):\n",
        "        self.__radius = radius\n",
        "\n",
        "    def set_x(self, x):\n",
        "        self.__x = x\n",
        "\n",
        "    def set_y(self, y):\n",
        "        self.__y = y\n",
        "\n",
        "    def area(self):\n",
        "        return self.__radius ** 2 * 3.14\n",
        "\n",
        "    def perimeter(self):\n",
        "        return 2 * self.__radius * 3.14"
      ]
    },
    {
      "cell_type": "code",
      "source": [
        "circle = Circle(8, 3, 2)\n",
        "\n",
        "print(\"Radius:\", circle.get_radius())\n",
        "print(\"X =\", circle.get_x())\n",
        "print(\"Y =\",circle.get_y())\n",
        "print(\"Area =\", circle.area())\n",
        "print(\"Perimeter =\", circle.perimeter())"
      ],
      "metadata": {
        "colab": {
          "base_uri": "https://localhost:8080/"
        },
        "id": "zhlQo7d4WOw-",
        "outputId": "14dfafea-f5d5-4766-949e-c962250067fe"
      },
      "execution_count": 10,
      "outputs": [
        {
          "output_type": "stream",
          "name": "stdout",
          "text": [
            "Radius: 8\n",
            "X = 3\n",
            "Y = 2\n",
            "Area = 200.96\n",
            "Perimeter = 50.24\n"
          ]
        }
      ]
    },
    {
      "cell_type": "markdown",
      "metadata": {
        "id": "--9eCa3QVmz8"
      },
      "source": [
        "5. Implement a common base class for the classes implemented in 3 and 4 above which implements all common methods as not implemented functions (virtual). Re-implement your regtangle and circule classes to inherit from the base class and overload the functions accordingly."
      ]
    },
    {
      "cell_type": "code",
      "execution_count": 11,
      "metadata": {
        "id": "r1T78XIwVmz-"
      },
      "outputs": [],
      "source": [
        "class Shape:\n",
        "    def area(self): raise NotImplementedError(\"Subclasses must implement area()\")\n",
        "    def perimeter(self): raise NotImplementedError(\"Subclasses must implement perimeter()\")\n",
        "\n",
        "class Rectangle(Shape):\n",
        "    def __init__(self, length, width, x, y): self.l,self.w,self.x,self.y = length,width,x,y\n",
        "    def area(self): return self.l*self.w\n",
        "    def perimeter(self): return 2*(self.l+self.w)\n",
        "\n",
        "class Circle(Shape):\n",
        "    def __init__(self, radius, x, y): self.r,self.x,self.y = radius,x,y\n",
        "    def area(self): return self.r**2 * 3.14\n",
        "    def perimeter(self): return 2 * self.r * 3.14"
      ]
    },
    {
      "cell_type": "code",
      "source": [
        "rectangle = Rectangle(8, 3, 2, 4)\n",
        "\n",
        "print(\"Area = \", rectangle.area())\n",
        "print(\"Perimeter = \", rectangle.perimeter())"
      ],
      "metadata": {
        "colab": {
          "base_uri": "https://localhost:8080/"
        },
        "id": "G8OWz0QIWSW0",
        "outputId": "04b099f5-2290-4f64-f5dd-a803d317c064"
      },
      "execution_count": 12,
      "outputs": [
        {
          "output_type": "stream",
          "name": "stdout",
          "text": [
            "Area =  24\n",
            "Perimeter =  22\n"
          ]
        }
      ]
    },
    {
      "cell_type": "code",
      "source": [
        "circle = Circle(5, 9, 2)\n",
        "\n",
        "print(\"Area =\", circle.area())\n",
        "\n",
        "print(\"Perimeter =\", circle.perimeter())"
      ],
      "metadata": {
        "colab": {
          "base_uri": "https://localhost:8080/"
        },
        "id": "PgUKX1xYWUc6",
        "outputId": "38bb2716-419d-4b66-de48-80942ee7e38a"
      },
      "execution_count": 13,
      "outputs": [
        {
          "output_type": "stream",
          "name": "stdout",
          "text": [
            "Area = 78.5\n",
            "Perimeter = 31.400000000000002\n"
          ]
        }
      ]
    },
    {
      "cell_type": "markdown",
      "metadata": {
        "id": "X2OlxpvZVmz_"
      },
      "source": [
        "6. Implement a triangle class analogous to the rectangle and circle in question 5."
      ]
    },
    {
      "cell_type": "code",
      "execution_count": 14,
      "metadata": {
        "id": "2Koc43vDVm0A"
      },
      "outputs": [],
      "source": [
        "class Triangle:\n",
        "    def __init__(self, base, height, side1, side2, side3):\n",
        "        self.b, self.h, self.s1, self.s2, self.s3 = base, height, side1, side2, side3\n",
        "\n",
        "    def area(self): return 0.5 * self.b * self.h\n",
        "\n",
        "    def perimeter(self): return self.s1 + self.s2 + self.s3"
      ]
    },
    {
      "cell_type": "code",
      "source": [
        "triangle = Triangle(5, 4, 3, 4, 5)\n",
        "print(\"Area =\", triangle.area())\n",
        "print(\"Perimeter =\", triangle.perimeter())"
      ],
      "metadata": {
        "colab": {
          "base_uri": "https://localhost:8080/"
        },
        "id": "NgQfdFkCWXRx",
        "outputId": "7d1d1ae3-81c3-449c-c4d5-36e1cf6d160b"
      },
      "execution_count": 15,
      "outputs": [
        {
          "output_type": "stream",
          "name": "stdout",
          "text": [
            "Area = 10.0\n",
            "Perimeter = 12\n"
          ]
        }
      ]
    },
    {
      "cell_type": "markdown",
      "metadata": {
        "id": "1J4RtLXhVm0B"
      },
      "source": [
        "7. Add a function to the object classes, including the base, that returns a list of up to 16 pairs of  $x$ and $y$ points on the parameter of the object."
      ]
    },
    {
      "cell_type": "code",
      "execution_count": 19,
      "metadata": {
        "id": "wo051TGKVm0C"
      },
      "outputs": [],
      "source": [
        "class Shape:\n",
        "    def parameter_points(self, num_points=16):\n",
        "        raise NotImplementedError(\"Subclasses must implement parameter_points()\")\n",
        "\n",
        "class Rectangle(Shape):\n",
        "    def __init__(self, length, width, x, y):\n",
        "        self.l, self.w, self.x, self.y = length, width, x, y\n",
        "\n",
        "    def parameter_points(self, num_points=16):\n",
        "        return [(self.x + i, self.y) for i in range(self.l)] + [(self.x + self.l, self.y + i) for i in range(self.w)] + [(self.x + self.l - i, self.y + self.w) for i in range(self.l)] + [(self.x, self.y + self.w - i) for i in range(self.w)]\n",
        "\n",
        "class Circle(Shape):\n",
        "    def __init__(self, radius, x, y):\n",
        "        self.r, self.x, self.y = radius, x, y\n",
        "\n",
        "    def parameter_points(self, num_points=16):\n",
        "        return [(self.x + self.r * math.cos(i * 2 * math.pi / num_points), self.y + self.r * math.sin(i * 2 * math.pi / num_points)) for i in range(num_points)]\n",
        "\n",
        "class Triangle(Shape):\n",
        "    def __init__(self, base, height, side1, side2, side3):\n",
        "        self.b, self.h, self.s1, self.s2, self.s3 = base, height, side1, side2, side3\n",
        "\n",
        "    def parameter_points(self, num_points=16):\n",
        "        points = []\n",
        "        for i in range(num_points):\n",
        "            x = self.b * i / num_points\n",
        "            if x <= self.s1:\n",
        "                y = self.h * x / self.b\n",
        "            elif x <= self.s1 + self.s2:\n",
        "                y = self.h * (1 - (x - self.s1) / self.s2)\n",
        "            else:\n",
        "                y = 0\n",
        "            points.append((x, y))\n",
        "        return points"
      ]
    },
    {
      "cell_type": "code",
      "source": [
        "rectangle = Rectangle(5, 3, 2, 2)\n",
        "print(\"Paramter points for the rectangle:\", rectangle.parameter_points())"
      ],
      "metadata": {
        "colab": {
          "base_uri": "https://localhost:8080/"
        },
        "id": "DvRdKCzGWcj-",
        "outputId": "b7ec0c92-65d1-4160-bc12-5c64b53d206d"
      },
      "execution_count": 20,
      "outputs": [
        {
          "output_type": "stream",
          "name": "stdout",
          "text": [
            "Paramter points for the rectangle: [(2, 2), (3, 2), (4, 2), (5, 2), (6, 2), (7, 2), (7, 3), (7, 4), (7, 5), (6, 5), (5, 5), (4, 5), (3, 5), (2, 5), (2, 4), (2, 3)]\n"
          ]
        }
      ]
    },
    {
      "cell_type": "code",
      "source": [
        "triangle = Triangle(5, 4, 3, 4, 5)\n",
        "print(\"Paramter points for the triangle:\", triangle.parameter_points())"
      ],
      "metadata": {
        "colab": {
          "base_uri": "https://localhost:8080/"
        },
        "id": "inPgyqznWhTH",
        "outputId": "dedf1c8b-53e5-4740-8222-b64cd852e6ff"
      },
      "execution_count": 22,
      "outputs": [
        {
          "output_type": "stream",
          "name": "stdout",
          "text": [
            "Paramter points for the triangle: [(0.0, 0.0), (0.3125, 0.25), (0.625, 0.5), (0.9375, 0.75), (1.25, 1.0), (1.5625, 1.25), (1.875, 1.5), (2.1875, 1.75), (2.5, 2.0), (2.8125, 2.25), (3.125, 3.875), (3.4375, 3.5625), (3.75, 3.25), (4.0625, 2.9375), (4.375, 2.625), (4.6875, 2.3125)]\n"
          ]
        }
      ]
    },
    {
      "cell_type": "markdown",
      "metadata": {
        "id": "1-WctqHJVm0D"
      },
      "source": [
        "8. Add a function to the object classes, including the base, that tests if a given set of $x$ and $y$ coordinates are inside of the object. You'll have to think through how to determine if a set of coordinates are inside an object for each object type."
      ]
    },
    {
      "cell_type": "code",
      "execution_count": 23,
      "metadata": {
        "id": "RhXtjPXlVm0E"
      },
      "outputs": [],
      "source": [
        "class Shape:\n",
        "    def is_inside(self, x, y):\n",
        "        raise NotImplementedError(\"Subclasses must implement is_inside()\")\n",
        "\n",
        "class Rectangle(Shape):\n",
        "    def __init__(self, length, width, x, y):\n",
        "        self.x, self.y, self.length, self.width = x, y, length, width\n",
        "\n",
        "    def is_inside(self, x, y):\n",
        "        return self.x <= x <= self.x + self.length and self.y <= y <= self.y + self.width\n",
        "\n",
        "class Circle(Shape):\n",
        "    def __init__(self, radius, x, y):\n",
        "        self.x, self.y, self.radius = x, y, radius\n",
        "\n",
        "    def is_inside(self, x, y):\n",
        "        return (x - self.x) ** 2 + (y - self.y) ** 2 <= self.radius ** 2\n",
        "\n",
        "class Triangle(Shape):\n",
        "    def __init__(self, base, height, x, y):\n",
        "        self.x, self.y, self.base, self.height = x, y, base, height\n",
        "\n",
        "    def is_inside(self, x, y):\n",
        "        A, B, C = (self.x, self.y), (self.x + self.base, self.y), (self.x + self.base / 2, self.y + self.height)\n",
        "        s = ((B[1] - C[1]) * (x - C[0]) + (C[0] - B[0]) * (y - C[1])) / ((B[1] - C[1]) * (A[0] - C[0]) + (C[0] - B[0]) * (A[1] - C[1]))\n",
        "        t = ((C[1] - A[1]) * (x - C[0]) + (A[0] - C[0]) * (y - C[1])) / ((B[1] - C[1]) * (A[0] - C[0]) + (C[0] - B[0]) * (A[1] - C[1]))\n",
        "        return 0 <= s <= 1 and 0 <= t <= 1 and s + t <= 1"
      ]
    },
    {
      "cell_type": "code",
      "source": [
        "rectangle = Rectangle(4, 3, 1, 1)\n",
        "print(rectangle.is_inside(2, 2))\n",
        "\n",
        "circle = Circle(5, 0, 0)\n",
        "print(circle.is_inside(3, 4))\n",
        "\n",
        "triangle = Triangle(4, 3, 0, 0)\n",
        "print(triangle.is_inside(2, 2))"
      ],
      "metadata": {
        "colab": {
          "base_uri": "https://localhost:8080/"
        },
        "id": "jbm1mgyoXJxf",
        "outputId": "1cc835e7-6cfc-42f6-95fb-5871131cdc6b"
      },
      "execution_count": 24,
      "outputs": [
        {
          "output_type": "stream",
          "name": "stdout",
          "text": [
            "True\n",
            "True\n",
            "True\n"
          ]
        }
      ]
    },
    {
      "cell_type": "markdown",
      "metadata": {
        "id": "RxBKd_3yVm0E"
      },
      "source": [
        "9. Add a function in the base class of the object classes that returns true/false testing that the object overlaps with another object."
      ]
    },
    {
      "cell_type": "code",
      "execution_count": 25,
      "metadata": {
        "id": "dP3mJSobVm0F"
      },
      "outputs": [],
      "source": [
        "class Shape:\n",
        "    def is_inside(self, x, y):\n",
        "        raise NotImplementedError(\"Subclasses must implement is_inside()\")\n",
        "\n",
        "    def overlaps(self, other):\n",
        "        raise NotImplementedError(\"Subclasses must implement overlaps()\")\n",
        "\n",
        "class Rectangle(Shape):\n",
        "    def __init__(self, length, width, x, y):\n",
        "        self.x, self.y, self.length, self.width = x, y, length, width\n",
        "\n",
        "    def is_inside(self, x, y):\n",
        "        return self.x <= x <= self.x + self.length and self.y <= y <= self.y + self.width\n",
        "\n",
        "    def overlaps(self, other):\n",
        "        if isinstance(other, Rectangle):\n",
        "            return not (self.x + self.length < other.x or other.x + other.length < self.x \\\n",
        "                        or self.y + self.width < other.y or other.y + other.width < self.y)\n",
        "        elif isinstance(other, Circle):\n",
        "            closest_x = max(self.x, min(other.x, self.x + self.length))\n",
        "            closest_y = max(self.y, min(other.y, self.y + self.width))\n",
        "            return (closest_x - other.x) ** 2 + (closest_y - other.y) ** 2 <= other.radius ** 2\n",
        "        else:\n",
        "            raise NotImplementedError(\"Overlap not implemented for this shape combination\")\n",
        "\n",
        "class Circle(Shape):\n",
        "    def __init__(self, radius, x, y):\n",
        "        self.x, self.y, self.radius = x, y, radius\n",
        "\n",
        "    def is_inside(self, x, y):\n",
        "        return (x - self.x) ** 2 + (y - self.y) ** 2 <= self.radius ** 2\n",
        "\n",
        "    def overlaps(self, other):\n",
        "        if isinstance(other, Rectangle):\n",
        "            return other.overlaps(self)\n",
        "        elif isinstance(other, Circle):\n",
        "            return (self.x - other.x) ** 2 + (self.y - other.y) ** 2 <= (self.radius + other.radius) ** 2\n",
        "        else:\n",
        "            raise NotImplementedError(\"Overlap not implemented for this shape combination\")\n",
        "\n",
        "class Triangle(Shape):\n",
        "    def __init__(self, base, height, x, y):\n",
        "        self.x, self.y, self.base, self.height = x, y, base, height\n",
        "\n",
        "    def is_inside(self, x, y):\n",
        "        return (0 <= (x - self.x) * (self.y + self.height - y) / (self.base * self.height) <= 1) \\\n",
        "            and (0 <= (x - self.x - self.base) * (self.y - y) / (self.base * self.height) <= 1) \\\n",
        "            and (0 <= (y - self.y) / self.height <= 1)\n",
        "\n",
        "    def overlaps(self, other):\n",
        "        if isinstance(other, Triangle):\n",
        "            raise NotImplementedError(\"Overlap not implemented for Triangle and Triangle\")\n",
        "\n",
        "        if isinstance(other, Rectangle):\n",
        "            return other.overlaps(self)\n",
        "\n",
        "        if isinstance(other, Circle):\n",
        "            closest_x = min(max(self.x, other.x), self.x + self.base)\n",
        "            closest_y = min(max(self.y, other.y), self.y + self.height)\n",
        "            return (closest_x - other.x) ** 2 + (closest_y - other.y) ** 2 <= other.radius ** 2\n",
        "\n",
        "        raise NotImplementedError(\"Overlap not implemented for this shape combination\")\n"
      ]
    },
    {
      "cell_type": "code",
      "source": [
        "rectangle1 = Rectangle(4, 3, 1, 1)\n",
        "rectangle2 = Rectangle(3, 2, 2, 2)\n",
        "print(rectangle1.overlaps(rectangle2))\n",
        "\n",
        "circle = Circle(5, 0, 0)\n",
        "print(circle.overlaps(rectangle1))\n",
        "\n",
        "triangle = Triangle(4, 3, 0, 0)\n",
        "print(triangle.overlaps(circle))"
      ],
      "metadata": {
        "colab": {
          "base_uri": "https://localhost:8080/"
        },
        "id": "MZnuoNaDXVjS",
        "outputId": "b8d3b43a-0a70-4c2d-fa27-5e157234754a"
      },
      "execution_count": 26,
      "outputs": [
        {
          "output_type": "stream",
          "name": "stdout",
          "text": [
            "True\n",
            "True\n",
            "True\n"
          ]
        }
      ]
    },
    {
      "cell_type": "markdown",
      "metadata": {
        "id": "HvFCyxwGVm0G"
      },
      "source": [
        "10. Copy the `Canvas` class from lecture to in a python file creating a `paint` module. Copy your classes from above into the module and implement paint functions. Implement a `CompoundShape` class. Create a simple drawing demonstrating that all of your classes are working."
      ]
    },
    {
      "cell_type": "code",
      "execution_count": 27,
      "metadata": {
        "id": "GenUanYFVm0G"
      },
      "outputs": [],
      "source": [
        "class Canvas:\n",
        "    def __init__(self, width, height):\n",
        "        self.width = width\n",
        "        self.height = height\n",
        "        self.data = [[' '] * width for i in range(height)]\n",
        "\n",
        "    def set_pixel(self, row, col, char='*'):\n",
        "        self.data[row][col] = char\n",
        "\n",
        "    def get_pixel(self, row, col):\n",
        "        return self.data[row][col]\n",
        "\n",
        "    def clear_canvas(self):\n",
        "        self.data = [[' '] * self.width for i in range(self.height)]\n",
        "\n",
        "    def v_line(self, x, y, w, **kargs):\n",
        "        for i in range(x,x+w):\n",
        "            self.set_pixel(i,y, **kargs)\n",
        "\n",
        "    def h_line(self, x, y, h, **kargs):\n",
        "        for i in range(y,y+h):\n",
        "            self.set_pixel(x,i, **kargs)\n",
        "\n",
        "    def line(self, x1, y1, x2, y2, **kargs):\n",
        "        slope = (y2-y1) / (x2-x1)\n",
        "        for y in range(y1,y2):\n",
        "            x= int(slope * y)\n",
        "            self.set_pixel(x,y, **kargs)\n",
        "\n",
        "    def display(self):\n",
        "        print(\"\\n\".join([\"\".join(row) for row in self.data]))"
      ]
    },
    {
      "cell_type": "code",
      "source": [
        "class Canvas:\n",
        "    def __init__(self, width, height):\n",
        "        self.width = width\n",
        "        self.height = height\n",
        "        self.data = [[' '] * width for _ in range(height)]\n",
        "\n",
        "    def set_pixel(self, row, col, char='*'):\n",
        "        self.data[row][col] = char\n",
        "\n",
        "    def clear_canvas(self):\n",
        "        self.data = [[' '] * self.width for _ in range(self.height)]\n",
        "\n",
        "    def display(self):\n",
        "        print(\"\\n\".join([\"\".join(row) for row in self.data]))\n",
        "\n",
        "\n",
        "class Shape:\n",
        "    def is_inside(self, x, y):\n",
        "        raise NotImplementedError(\"Subclasses must implement is_inside()\")\n",
        "\n",
        "    def overlaps(self, other):\n",
        "        raise NotImplementedError(\"Subclasses must implement overlaps()\")\n",
        "\n",
        "\n",
        "class Rectangle(Shape):\n",
        "    def __init__(self, length, width, x, y):\n",
        "        self.x, self.y, self.length, self.width = x, y, length, width\n",
        "\n",
        "    def is_inside(self, x, y):\n",
        "        return self.x <= x <= self.x + self.length and self.y <= y <= self.y + self.width\n",
        "\n",
        "    def overlaps(self, other):\n",
        "        if isinstance(other, Rectangle):\n",
        "            return not (self.x + self.length < other.x or other.x + other.length < self.x \\\n",
        "                        or self.y + self.width < other.y or other.y + other.width < self.y)\n",
        "        elif isinstance(other, Circle):\n",
        "            closest_x = max(self.x, min(other.x, self.x + self.length))\n",
        "            closest_y = max(self.y, min(other.y, self.y + self.width))\n",
        "            return (closest_x - other.x) ** 2 + (closest_y - other.y) ** 2 <= other.radius ** 2\n",
        "        else:\n",
        "            raise NotImplementedError(\"Overlap not implemented for this shape combination\")\n",
        "\n",
        "\n",
        "class Circle(Shape):\n",
        "    def __init__(self, radius, x, y):\n",
        "        self.x, self.y, self.radius = x, y, radius\n",
        "\n",
        "    def is_inside(self, x, y):\n",
        "        return (x - self.x) ** 2 + (y - self.y) ** 2 <= self.radius ** 2\n",
        "\n",
        "    def overlaps(self, other):\n",
        "        if isinstance(other, Rectangle):\n",
        "            return other.overlaps(self)\n",
        "        elif isinstance(other, Circle):\n",
        "            return (self.x - other.x) ** 2 + (self.y - other.y) ** 2 <= (self.radius + other.radius) ** 2\n",
        "        else:\n",
        "            raise NotImplementedError(\"Overlap not implemented for this shape combination\")\n",
        "\n",
        "\n",
        "class Triangle(Shape):\n",
        "    def __init__(self, base, height, x, y):\n",
        "        self.x, self.y, self.base, self.height = x, y, base, height\n",
        "\n",
        "    def is_inside(self, x, y):\n",
        "        return (0 <= (x - self.x) * (self.y + self.height - y) / (self.base * self.height) <= 1) \\\n",
        "            and (0 <= (x - self.x - self.base) * (self.y - y) / (self.base * self.height) <= 1) \\\n",
        "            and (0 <= (y - self.y) / self.height <= 1)\n",
        "\n",
        "    def overlaps(self, other):\n",
        "        if isinstance(other, Triangle):\n",
        "            raise NotImplementedError(\"Overlap not implemented for Triangle and Triangle\")\n",
        "\n",
        "        if isinstance(other, Rectangle):\n",
        "            return other.overlaps(self)\n",
        "\n",
        "        if isinstance(other, Circle):\n",
        "            closest_x = min(max(self.x, other.x), self.x + self.base)\n",
        "            closest_y = min(max(self.y, other.y), self.y + self.height)\n",
        "            return (closest_x - other.x) ** 2 + (closest_y - other.y) ** 2 <= other.radius ** 2\n",
        "\n",
        "        raise NotImplementedError(\"Overlap not implemented for this shape combination\")\n",
        "\n",
        "\n",
        "class CompoundShape(Shape):\n",
        "    def __init__(self, shapes):\n",
        "        self.shapes = shapes\n",
        "\n",
        "    def is_inside(self, x, y):\n",
        "        return any(shape.is_inside(x, y) for shape in self.shapes)\n",
        "\n",
        "    def overlaps(self, other):\n",
        "        return any(shape.overlaps(other) for shape in self.shapes)"
      ],
      "metadata": {
        "id": "gZTXjGCyXcoy"
      },
      "execution_count": 28,
      "outputs": []
    },
    {
      "cell_type": "code",
      "source": [
        "canvas = Canvas(50, 30)\n",
        "\n",
        "rectangle = Rectangle(11, 8, 7, 9)\n",
        "circle = Circle(7, 12, 10)\n",
        "triangle = Triangle(9, 23, 8, 19)"
      ],
      "metadata": {
        "id": "dYutvVJ6XfUI"
      },
      "execution_count": 29,
      "outputs": []
    },
    {
      "cell_type": "code",
      "source": [
        "compound_shape = CompoundShape([rectangle1, rectangle2, circle, triangle])\n",
        "\n",
        "for x in range(canvas.width):\n",
        "    for y in range(canvas.height):\n",
        "        if compound_shape.is_inside(x, y):\n",
        "            canvas.set_pixel(x, y, '*')\n",
        "\n",
        "canvas.display()"
      ],
      "metadata": {
        "colab": {
          "base_uri": "https://localhost:8080/"
        },
        "id": "eO70yEGJXhZB",
        "outputId": "7a407365-8da5-4414-bbda-2694088d87d7"
      },
      "execution_count": 30,
      "outputs": [
        {
          "output_type": "stream",
          "name": "stdout",
          "text": [
            "                                                  \n",
            " ****                                             \n",
            " ****                                             \n",
            " ****                                             \n",
            " ****                                             \n",
            " ****     *                                       \n",
            "       *******                                    \n",
            "      *********                                   \n",
            "     ***********   ***********                    \n",
            "    *************  ***********                    \n",
            "    *************  ***********                    \n",
            "    *************  ***********                    \n",
            "   *************** ***********                    \n",
            "    *************  ***********                    \n",
            "    *************  ***********                    \n",
            "    *************  ***********                    \n",
            "     ***********   ***********                    \n",
            "      *********    ***********                    \n",
            "       *******                                    \n",
            "          *                                       \n",
            "                                                  \n",
            "                                                  \n",
            "                                                  \n",
            "                                                  \n",
            "                                                  \n",
            "                                                  \n",
            "                                                  \n",
            "                                                  \n",
            "                                                  \n",
            "                                                  \n"
          ]
        }
      ]
    },
    {
      "cell_type": "markdown",
      "metadata": {
        "id": "Fzs3naf5Vm0H"
      },
      "source": [
        "11. Create a `RasterDrawing` class. Demonstrate that you can create a drawing made of several shapes, paint the drawing, modify the drawing, and paint it again."
      ]
    },
    {
      "cell_type": "code",
      "execution_count": 31,
      "metadata": {
        "id": "fjtmbF7HVm0I"
      },
      "outputs": [],
      "source": [
        "class RasterDrawing:\n",
        "    def __init__(self, width, height):\n",
        "        self.canvas = Canvas(width, height)\n",
        "        self.shapes = []\n",
        "\n",
        "    def add_shape(self, shape):\n",
        "        self.shapes.append(shape)\n",
        "\n",
        "    def paint(self):\n",
        "        for x in range(self.canvas.width):\n",
        "            for y in range(self.canvas.height):\n",
        "                for shape in self.shapes:\n",
        "                    if shape.is_inside(x, y):\n",
        "                        self.canvas.set_pixel(x, y, '*')\n",
        "\n",
        "    def modify_shape(self, index, new_shape):\n",
        "        if 0 <= index < len(self.shapes):\n",
        "            self.shapes[index] = new_shape\n",
        "\n",
        "    def display(self):\n",
        "        self.canvas.display()"
      ]
    },
    {
      "cell_type": "code",
      "source": [
        "drawing = RasterDrawing(40, 60)\n",
        "\n",
        "drawing.add_shape(Rectangle(5, 11, 23, 12))\n",
        "drawing.add_shape(Circle(4, 18, 29))\n",
        "drawing.add_shape(Triangle(3, 3, 2, 3))\n",
        "\n",
        "drawing.paint()\n",
        "drawing.display()\n",
        "\n",
        "drawing.modify_shape(1, Rectangle(5, 5, 15, 15))\n",
        "\n",
        "drawing.paint()\n",
        "drawing.display()"
      ],
      "metadata": {
        "colab": {
          "base_uri": "https://localhost:8080/"
        },
        "id": "FsWYen2cXlpT",
        "outputId": "a568e98c-393c-4234-9ad4-a77ddc42f0dd"
      },
      "execution_count": 32,
      "outputs": [
        {
          "output_type": "stream",
          "name": "stdout",
          "text": [
            "                                        \n",
            "                                        \n",
            "   ****                                 \n",
            "   ****                                 \n",
            "   ****                                 \n",
            "   ****                                 \n",
            "                                        \n",
            "                                        \n",
            "                                        \n",
            "                                        \n",
            "                                        \n",
            "                                        \n",
            "                                        \n",
            "                                        \n",
            "                             *          \n",
            "                           *****        \n",
            "                          *******       \n",
            "                          *******       \n",
            "                         *********      \n",
            "                          *******       \n",
            "                          *******       \n",
            "                           *****        \n",
            "                             *          \n",
            "            ************                \n",
            "            ************                \n",
            "            ************                \n",
            "            ************                \n",
            "            ************                \n",
            "            ************                \n",
            "                                        \n",
            "                                        \n",
            "                                        \n",
            "                                        \n",
            "                                        \n",
            "                                        \n",
            "                                        \n",
            "                                        \n",
            "                                        \n",
            "                                        \n",
            "                                        \n",
            "                                        \n",
            "                                        \n",
            "                                        \n",
            "                                        \n",
            "                                        \n",
            "                                        \n",
            "                                        \n",
            "                                        \n",
            "                                        \n",
            "                                        \n",
            "                                        \n",
            "                                        \n",
            "                                        \n",
            "                                        \n",
            "                                        \n",
            "                                        \n",
            "                                        \n",
            "                                        \n",
            "                                        \n",
            "                                        \n",
            "                                        \n",
            "                                        \n",
            "   ****                                 \n",
            "   ****                                 \n",
            "   ****                                 \n",
            "   ****                                 \n",
            "                                        \n",
            "                                        \n",
            "                                        \n",
            "                                        \n",
            "                                        \n",
            "                                        \n",
            "                                        \n",
            "                                        \n",
            "                             *          \n",
            "               ******      *****        \n",
            "               ******     *******       \n",
            "               ******     *******       \n",
            "               ******    *********      \n",
            "               ******     *******       \n",
            "               ******     *******       \n",
            "                           *****        \n",
            "                             *          \n",
            "            ************                \n",
            "            ************                \n",
            "            ************                \n",
            "            ************                \n",
            "            ************                \n",
            "            ************                \n",
            "                                        \n",
            "                                        \n",
            "                                        \n",
            "                                        \n",
            "                                        \n",
            "                                        \n",
            "                                        \n",
            "                                        \n",
            "                                        \n",
            "                                        \n",
            "                                        \n",
            "                                        \n",
            "                                        \n",
            "                                        \n",
            "                                        \n",
            "                                        \n",
            "                                        \n",
            "                                        \n",
            "                                        \n",
            "                                        \n",
            "                                        \n",
            "                                        \n",
            "                                        \n",
            "                                        \n",
            "                                        \n",
            "                                        \n",
            "                                        \n",
            "                                        \n",
            "                                        \n",
            "                                        \n",
            "                                        \n"
          ]
        }
      ]
    },
    {
      "cell_type": "markdown",
      "metadata": {
        "id": "7yJZcDUqVm0I"
      },
      "source": [
        "12. Implement the ability to load/save raster drawings and demonstate that your method works. One way to implement this ability:\n",
        "\n",
        "   * Overload `__repr__` functions of all objects to return strings of the python code that would construct the object.\n",
        "   \n",
        "   * In the save method of raster drawing class, store the representations into the file.\n",
        "   * Write a loader function that reads the file and uses `eval` to instantiate the object.\n",
        "\n",
        "For example:"
      ]
    },
    {
      "cell_type": "code",
      "execution_count": 33,
      "metadata": {
        "id": "6Oib9bGGVm0J"
      },
      "outputs": [],
      "source": [
        "class foo:\n",
        "    def __init__(self,a,b=None):\n",
        "        self.a=a\n",
        "        self.b=b\n",
        "\n",
        "    def __repr__(self):\n",
        "        return \"foo(\"+repr(self.a)+\",\"+repr(self.b)+\")\"\n",
        "\n",
        "    def save(self,filename):\n",
        "        f=open(filename,\"w\")\n",
        "        f.write(self.__repr__())\n",
        "        f.close()\n",
        "\n",
        "\n",
        "def foo_loader(filename):\n",
        "    f=open(filename,\"r\")\n",
        "    tmp=eval(f.read())\n",
        "    f.close()\n",
        "    return tmp\n"
      ]
    },
    {
      "cell_type": "code",
      "execution_count": 34,
      "metadata": {
        "colab": {
          "base_uri": "https://localhost:8080/"
        },
        "id": "glY4atuuVm0N",
        "outputId": "d90ea4e2-7164-41a2-d8f3-e939cc61620d"
      },
      "outputs": [
        {
          "output_type": "stream",
          "name": "stdout",
          "text": [
            "foo(1,'hello')\n"
          ]
        }
      ],
      "source": [
        "# Test\n",
        "print(repr(foo(1,\"hello\")))"
      ]
    },
    {
      "cell_type": "code",
      "execution_count": 35,
      "metadata": {
        "id": "_qXeiZD-Vm0Q"
      },
      "outputs": [],
      "source": [
        "# Create an object and save it\n",
        "ff=foo(1,\"hello\")\n",
        "ff.save(\"Test.foo\")"
      ]
    },
    {
      "cell_type": "code",
      "execution_count": 36,
      "metadata": {
        "colab": {
          "base_uri": "https://localhost:8080/"
        },
        "id": "o1cMkHsxVm0Q",
        "outputId": "a844cd5f-f456-4697-dba9-d604f82c556a"
      },
      "outputs": [
        {
          "output_type": "stream",
          "name": "stdout",
          "text": [
            "foo(1,'hello')"
          ]
        }
      ],
      "source": [
        "# Check contents of the saved file\n",
        "!cat Test.foo"
      ]
    },
    {
      "cell_type": "code",
      "execution_count": 37,
      "metadata": {
        "colab": {
          "base_uri": "https://localhost:8080/"
        },
        "id": "nl8DlNwnVm0R",
        "outputId": "6eceeb06-2d09-4b13-e794-c25215623bb2"
      },
      "outputs": [
        {
          "output_type": "execute_result",
          "data": {
            "text/plain": [
              "foo(1,'hello')"
            ]
          },
          "metadata": {},
          "execution_count": 37
        }
      ],
      "source": [
        "# Load the object\n",
        "ff_reloaded=foo_loader(\"Test.foo\")\n",
        "ff_reloaded"
      ]
    },
    {
      "cell_type": "code",
      "execution_count": 38,
      "metadata": {
        "id": "UBxqcgNKVm0T"
      },
      "outputs": [],
      "source": [
        "class RasterDrawing:\n",
        "    def __init__(self, width, height):\n",
        "        self.canvas = Canvas(width, height)\n",
        "        self.shapes = []\n",
        "\n",
        "    def add_shape(self, shape):\n",
        "        self.shapes.append(shape)\n",
        "\n",
        "    def paint(self):\n",
        "        for x in range(self.canvas.width):\n",
        "            for y in range(self.canvas.height):\n",
        "                for shape in self.shapes:\n",
        "                    if shape.is_inside(x, y):\n",
        "                        self.canvas.set_pixel(x, y, '*')\n",
        "\n",
        "    def modify_shape(self, index, new_shape):\n",
        "        if 0 <= index < len(self.shapes):\n",
        "            self.shapes[index] = new_shape\n",
        "\n",
        "    def display(self):\n",
        "        self.canvas.display()\n",
        "\n",
        "    def save(self, filename):\n",
        "        with open(filename, \"w\") as f:\n",
        "            f.write(f\"RasterDrawing({self.canvas.width}, {self.canvas.height})\\n\")\n",
        "            for shape in self.shapes:\n",
        "                f.write(f\"drawing.add_shape({shape.__repr__()})\\n\")\n",
        "\n",
        "    @classmethod\n",
        "    def load(cls, filename):\n",
        "        with open(filename, \"r\") as f:\n",
        "            eval(f.readline())\n",
        "            drawing = eval(\"RasterDrawing(\" + f.readline() + \")\")\n",
        "            for line in f:\n",
        "                eval(line.strip())\n",
        "        return drawing"
      ]
    },
    {
      "cell_type": "code",
      "execution_count": 39,
      "metadata": {
        "id": "sZuscOrFVm0T"
      },
      "outputs": [],
      "source": [
        "drawing = RasterDrawing(30, 30)\n",
        "\n",
        "drawing.add_shape(Rectangle(15, 5, 5, 10))\n",
        "drawing.add_shape(Circle(8, 20, 20))\n",
        "drawing.add_shape(Triangle(10, 10, 8, 5))"
      ]
    },
    {
      "cell_type": "code",
      "source": [
        "drawing.paint()\n",
        "drawing.display()"
      ],
      "metadata": {
        "colab": {
          "base_uri": "https://localhost:8080/"
        },
        "id": "qn6D8E0GXxOL",
        "outputId": "5005ae44-1e24-4ec9-d13d-2cfc56c94da0"
      },
      "execution_count": 40,
      "outputs": [
        {
          "output_type": "stream",
          "name": "stdout",
          "text": [
            "                              \n",
            "                              \n",
            "                              \n",
            "                              \n",
            "                              \n",
            "          ******              \n",
            "          ******              \n",
            "          ******              \n",
            "     ***********              \n",
            "     ***********              \n",
            "     ***********              \n",
            "     ***********              \n",
            "     ***********    *         \n",
            "     *********** *******      \n",
            "     *********************    \n",
            "     **********************   \n",
            "     **********************   \n",
            "     ***********************  \n",
            "     ***********************  \n",
            "          ******************  \n",
            "          ******************* \n",
            "             ***************  \n",
            "             ***************  \n",
            "             ***************  \n",
            "              *************   \n",
            "              *************   \n",
            "               ***********    \n",
            "                 *******      \n",
            "                    *         \n",
            "                              \n"
          ]
        }
      ]
    }
  ],
  "metadata": {
    "kernelspec": {
      "display_name": "Python 3 (ipykernel)",
      "language": "python",
      "name": "python3"
    },
    "language_info": {
      "codemirror_mode": {
        "name": "ipython",
        "version": 3
      },
      "file_extension": ".py",
      "mimetype": "text/x-python",
      "name": "python",
      "nbconvert_exporter": "python",
      "pygments_lexer": "ipython3",
      "version": "3.9.6"
    },
    "colab": {
      "provenance": []
    }
  },
  "nbformat": 4,
  "nbformat_minor": 0
}